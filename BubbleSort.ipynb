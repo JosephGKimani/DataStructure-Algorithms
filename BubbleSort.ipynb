{
 "cells": [
  {
   "cell_type": "code",
   "execution_count": 28,
   "id": "ab4e9d18-cc58-4032-8d40-0169f8a49ca5",
   "metadata": {},
   "outputs": [
    {
     "ename": "NameError",
     "evalue": "name '__init__' is not defined",
     "output_type": "error",
     "traceback": [
      "\u001b[1;31m---------------------------------------------------------------------------\u001b[0m",
      "\u001b[1;31mNameError\u001b[0m                                 Traceback (most recent call last)",
      "Cell \u001b[1;32mIn[28], line 1\u001b[0m\n\u001b[1;32m----> 1\u001b[0m \u001b[38;5;28;01mif\u001b[39;00m \u001b[38;5;21;43m__init__\u001b[39;49m\u001b[38;5;241m==\u001b[39m__main__:\n\u001b[0;32m      3\u001b[0m     \u001b[38;5;28;01mdef\u001b[39;00m \u001b[38;5;21mBS\u001b[39m(items):\n\u001b[0;32m      4\u001b[0m         size\u001b[38;5;241m=\u001b[39m\u001b[38;5;28mlen\u001b[39m(items)\n",
      "\u001b[1;31mNameError\u001b[0m: name '__init__' is not defined"
     ]
    }
   ],
   "source": [
    "if __init__==__main__:\n",
    "\n",
    "    def BS(items):\n",
    "        size=len(items)\n",
    "        for i in range(size-1):\n",
    "            for j in range(size-1):\n",
    "                if items[j]>items[j+1]:\n",
    "                    temp=items[j+1]\n",
    "                    items[j+1]=items[j]\n",
    "                    items[j]=temp\n",
    "                    \n",
    "        return items\n",
    "                \n",
    "    BS([6,7,2,4,6,1,4,73,5,2])\n"
   ]
  },
  {
   "cell_type": "code",
   "execution_count": null,
   "id": "33bb30a5-c5c9-4465-84ec-f4639b491975",
   "metadata": {},
   "outputs": [],
   "source": []
  },
  {
   "cell_type": "code",
   "execution_count": null,
   "id": "8167e3c9-87ca-4459-82f7-9faaefea93c2",
   "metadata": {},
   "outputs": [],
   "source": []
  }
 ],
 "metadata": {
  "kernelspec": {
   "display_name": "Python 3 (ipykernel)",
   "language": "python",
   "name": "python3"
  },
  "language_info": {
   "codemirror_mode": {
    "name": "ipython",
    "version": 3
   },
   "file_extension": ".py",
   "mimetype": "text/x-python",
   "name": "python",
   "nbconvert_exporter": "python",
   "pygments_lexer": "ipython3",
   "version": "3.12.1"
  }
 },
 "nbformat": 4,
 "nbformat_minor": 5
}
